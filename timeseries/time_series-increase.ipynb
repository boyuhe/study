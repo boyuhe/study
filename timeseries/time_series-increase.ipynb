{
 "cells": [
  {
   "cell_type": "code",
   "execution_count": 30,
   "metadata": {},
   "outputs": [],
   "source": [
    "import numpy as np\n",
    "import pandas as pd\n",
    "import datetime \n",
    "from datetime import timedelta\n",
    "from statsmodels.graphics.tsaplots import plot_acf,plot_pacf#acf和pacf展示库\n",
    "from statsmodels.tsa.stattools import adfuller#adf检验库\n",
    "from statsmodels.stats.diagnostic import acorr_ljungbox#随机性检验库\n",
    "from statsmodels.tsa.arima_model import ARMA\n",
    "import matplotlib.pyplot as plt\n",
    "import prettytable \n",
    "import os\n",
    "os.chdir('/Users/magictavern/Downloads')"
   ]
  },
  {
   "cell_type": "code",
   "execution_count": 31,
   "metadata": {},
   "outputs": [],
   "source": [
    "def pre_table(table_name,table_rows):\n",
    "    table=prettytable.PrettyTable()\n",
    "    table.field_names=table_name\n",
    "    for i in table_rows:\n",
    "        table.add_row(i)\n",
    "    return table"
   ]
  },
  {
   "cell_type": "code",
   "execution_count": 32,
   "metadata": {},
   "outputs": [],
   "source": [
    "def get_best_log(ts,max_log=5,rule1=True,rule2=True):\n",
    "    if rule1 and rule2:\n",
    "        return 0, ts\n",
    "    else:\n",
    "        for i in range(1,max_log):\n",
    "            ts=np.log(ts)\n",
    "            lbvalue,pvalue2=acorr_ljungbox(ts,lags=1) #延迟期数=1，可以自定义6，12等\n",
    "            adf,pvalue1,usedlag,nobs,critical_values,icbest=adfuller(ts)\n",
    "            rule_1=(adf<critical_values['1%'] and adf <critical_values['5%']\n",
    "                   and adf<critical_values['10%'] and pvalue1<0.01)\n",
    "            rule_2=(pvalue2<0.05)\n",
    "            rule_3=(i<5)\n",
    "            if rule_1 and rule_2 and rule_3:\n",
    "                print ('The best log n is :{0}'.format(i) )\n",
    "            return i ,ts"
   ]
  },
  {
   "cell_type": "code",
   "execution_count": 33,
   "metadata": {},
   "outputs": [],
   "source": [
    "def recover_log(ts,log_n):\n",
    "    for i in range(1,log_n+1):\n",
    "        ts=np.exp(ts)\n",
    "        return ts"
   ]
  },
  {
   "cell_type": "code",
   "execution_count": 34,
   "metadata": {},
   "outputs": [],
   "source": [
    "def adf_val(ts,ts_title,acf_title,pacf_title):\n",
    "    plt.figure()\n",
    "    plt.plot(ts)\n",
    "    plt.title(ts_title)\n",
    "    plt.show()\n",
    "    plot_acf(ts,lags=20,title=acf_title).show()\n",
    "    plot_pacf(ts,lags=20,title=pacf_title).show()\n",
    "    adf,pvalue,usedlag,nobs,critical_values,icbest=adfuller(ts)\n",
    "    table_name=['adf','pvalue','usedlag','nobs','critical_values','icbest']\n",
    "    table_rows=[[adf,pvalue,usedlag,nobs,critical_values,icbest]]\n",
    "    adf_table=pre_table(table_name,table_rows)\n",
    "    print ('stochastic score')\n",
    "    print (adf_table)\n",
    "    return adf,pvalue,critical_values"
   ]
  },
  {
   "cell_type": "code",
   "execution_count": 35,
   "metadata": {},
   "outputs": [],
   "source": [
    "def acorr_val(ts):\n",
    "    lbvalue,pvalue=acorr_ljungbox(ts,lags=1)\n",
    "    table_name=['lbvalue','pvalue']\n",
    "    table_rows=[[lbvalue,pvalue]]\n",
    "    acorr_ljungbox_table=pre_table(table_name,table_rows)\n",
    "    print ('stationary score')\n",
    "    print (acorr_ljungbox_table)\n",
    "    return pvalue"
   ]
  },
  {
   "cell_type": "code",
   "execution_count": 36,
   "metadata": {},
   "outputs": [],
   "source": [
    "def arma_fit(ts):\n",
    "    max_count=int(len(ts)/10)\n",
    "    bic=float('inf')\n",
    "    tmp_score=[]\n",
    "    for tmp_p in range(max_count+1):\n",
    "        for tmp_q in range(max_count+1):\n",
    "            model=ARMA(ts,order=(tmp_p,tmp_q))\n",
    "            try:\n",
    "                results_ARMA=model.fit(disp=-1,method='css')\n",
    "            except:\n",
    "                continue\n",
    "            finally:\n",
    "                tmp_aic=results_ARMA.aic\n",
    "                tmp_bic=results_ARMA.bic\n",
    "                tmp_hqic=results_ARMA.hqic\n",
    "                tmp_score.append([tmp_p,tmp_q,tmp_aic,tmp_bic,tmp_hqic])\n",
    "                if tmp_bic<bic:\n",
    "                    p=tmp_p\n",
    "                    q=tmp_q\n",
    "                    model_arma=results_ARMA\n",
    "                    aic=tmp_aic\n",
    "                    bic=tmp_bic\n",
    "                    hqic=tmp_hqic\n",
    "    pdq_metrix=np.array(tmp_score)\n",
    "    pdq_pd=pd.DataFrame(pdq_metrix,columns=['p','q','aic','bic','hqic'])\n",
    "    table_name=['p','q','aic','bic','hqic']\n",
    "    table_rows=[[p,q,aic,bic,hqic]]\n",
    "    parameter_table=pre_table(table_name,table_rows)\n",
    "    print('each p/q traning record')\n",
    "    print (pdq_pd)\n",
    "    print('best p and q')\n",
    "    print (parameter_table)\n",
    "    return model_arma"
   ]
  },
  {
   "cell_type": "code",
   "execution_count": 37,
   "metadata": {},
   "outputs": [],
   "source": [
    "def train_test(model_arma,ts,log_n,rule1=True,rule2=True):\n",
    "    train_predict=model_arma.predict()\n",
    "    if not (rule1 and rule2):\n",
    "        train_predict=recover_log(train_predict,log_n)\n",
    "        ts=recover_log(ts,log_n)\n",
    "    ts_data_new=ts[train_predict.index]\n",
    "    RMSE=np.sqrt(np.sum((train_predict-ts_data_new)**2)/ts_data_new.size)\n",
    "    plt.figure()\n",
    "    train_predict.plot(label='predicted data',style='--')\n",
    "    ts_data_new.plot(label='raw data')\n",
    "    plt.legend(loc='best')\n",
    "    plt.title('raw data and predicted data with RMSE of %.2f'%RMSE)\n",
    "    plt.show()\n",
    "    return ts"
   ]
  },
  {
   "cell_type": "code",
   "execution_count": 38,
   "metadata": {},
   "outputs": [],
   "source": [
    "def predict_data(model_arma,ts,log_n,start,end,rule1=True,rule2=True):\n",
    "    predict_ts=model_arma.predict(start=start,end=end)\n",
    "    print('-----------predict date-----------')\n",
    "    if not (rule1 and rule2):\n",
    "        predict_ts=recover_log(predict_ts,log_n)\n",
    "        print (predict_ts)\n",
    "    plt.figure()\n",
    "    ts.plot(label='raw time series')\n",
    "    predict_ts.plot(label='predicted data',style='--')\n",
    "    plt.legend(loc='best')\n",
    "    plt.title('predicted time series')\n",
    "    plt.show()"
   ]
  },
  {
   "cell_type": "code",
   "execution_count": 59,
   "metadata": {},
   "outputs": [
    {
     "name": "stdout",
     "output_type": "stream",
     "text": [
      "data summary\n",
      "date\n",
      "1991-03-01    281.0\n",
      "1991-03-02    304.0\n",
      "1991-03-03    292.0\n",
      "1991-03-04    360.0\n",
      "1991-03-05    320.0\n",
      "1991-03-06    185.0\n",
      "1991-03-07    300.0\n",
      "1991-03-08    297.0\n",
      "1991-03-09    301.0\n",
      "1991-03-10    199.0\n",
      "1991-03-11    210.0\n",
      "1991-03-12    377.0\n",
      "1991-03-13    361.0\n",
      "1991-03-14    349.0\n",
      "1991-03-15    400.0\n",
      "1991-03-16    175.0\n",
      "1991-03-17    210.0\n",
      "1991-03-18    300.0\n",
      "1991-03-19    160.0\n",
      "1991-03-20    140.0\n",
      "1991-03-21    327.0\n",
      "1991-03-22    166.0\n",
      "1991-03-23    280.0\n",
      "1991-03-24    307.0\n",
      "1991-03-25    189.0\n",
      "1991-03-26    161.0\n",
      "1991-03-27     99.0\n",
      "1991-03-28     80.0\n",
      "1991-03-29     77.0\n",
      "1991-03-30     90.0\n",
      "              ...  \n",
      "1991-06-28     99.0\n",
      "1991-06-29    116.0\n",
      "1991-06-30     96.0\n",
      "1991-07-01     60.0\n",
      "1991-07-02     71.0\n",
      "1991-07-03    112.0\n",
      "1991-07-04    121.0\n",
      "1991-07-05    113.0\n",
      "1991-07-06    140.0\n",
      "1991-07-07     92.0\n",
      "1991-07-08    191.0\n",
      "1991-07-09     99.0\n",
      "1991-07-10    110.0\n",
      "1991-07-11    167.0\n",
      "1991-07-12     90.0\n",
      "1991-07-13     90.0\n",
      "1991-07-14    161.0\n",
      "1991-07-15    196.0\n",
      "1991-07-16    206.0\n",
      "1991-07-17    301.0\n",
      "1991-07-18    199.0\n",
      "1991-07-19    181.0\n",
      "1991-07-20    144.0\n",
      "1991-07-21    171.0\n",
      "1991-07-22     96.0\n",
      "1991-07-23     66.0\n",
      "1991-07-24     47.0\n",
      "1991-07-25    150.0\n",
      "1991-07-26    141.0\n",
      "1991-07-27    201.0\n",
      "Name: number, Length: 149, dtype: float32\n"
     ]
    }
   ],
   "source": [
    "date_parse=lambda dates:pd.datetime.strptime(dates,'%m-%d-%Y')\n",
    "df=pd.read_table('/Users/magictavern/Boyu/python_book/chapter4/time_series.txt',\n",
    "                delimiter='\\t',index_col='date',date_parser=date_parse)\n",
    "ts_data=df['number'].astype('float32')\n",
    "print ('data summary')\n",
    "print (ts_data)"
   ]
  },
  {
   "cell_type": "code",
   "execution_count": 84,
   "metadata": {},
   "outputs": [
    {
     "data": {
      "text/plain": [
       "0      1.773534\n",
       "1      1.398627\n",
       "2      1.244074\n",
       "3      1.170907\n",
       "4      1.157615\n",
       "5      1.135283\n",
       "6      1.086424\n",
       "7      1.091836\n",
       "8      1.070404\n",
       "9      1.062977\n",
       "10     1.055656\n",
       "11     1.063092\n",
       "12     1.057356\n",
       "13     1.046986\n",
       "14     1.053852\n",
       "15     1.046770\n",
       "16     1.047084\n",
       "17     1.041178\n",
       "18     1.030939\n",
       "19     1.031913\n",
       "20     1.036650\n",
       "21     1.031128\n",
       "22     1.025235\n",
       "23     1.027752\n",
       "24     1.025036\n",
       "25     1.027064\n",
       "26     1.020792\n",
       "27     1.021077\n",
       "28     1.022506\n",
       "29     1.023819\n",
       "         ...   \n",
       "209    1.001658\n",
       "210    1.002612\n",
       "211    1.002028\n",
       "212    1.002817\n",
       "213    1.001935\n",
       "214    1.002064\n",
       "215    1.001841\n",
       "216    1.002783\n",
       "217    1.002395\n",
       "218    1.002994\n",
       "219    1.003571\n",
       "220    1.004543\n",
       "221    1.001579\n",
       "222    1.001695\n",
       "223    1.001462\n",
       "224    1.001590\n",
       "225    1.003580\n",
       "226    1.003481\n",
       "227    1.001943\n",
       "228    1.002698\n",
       "229    1.003932\n",
       "230    1.002696\n",
       "231    1.003775\n",
       "232    1.002388\n",
       "233    1.003116\n",
       "234    1.003948\n",
       "235    1.002324\n",
       "236    1.002570\n",
       "237    1.002073\n",
       "238    1.002284\n",
       "Name: 2017-11-01, Length: 239, dtype: float64"
      ]
     },
     "execution_count": 84,
     "metadata": {},
     "output_type": "execute_result"
    }
   ],
   "source": [
    "increase_rate=pd.read_csv('increase_rate.csv')\n",
    "ts_data=pd.Series(increase_rate.dropna().loc[:,'2017-11-01'])\n",
    "ts_data"
   ]
  },
  {
   "cell_type": "code",
   "execution_count": 92,
   "metadata": {},
   "outputs": [],
   "source": [
    "date_index=[]\n",
    "for i in range(239):\n",
    "    date_add=datetime.datetime.strptime('2017-11-01','%Y-%m-%d')+timedelta(days=i)\n",
    "    date_index.append(date_add)"
   ]
  },
  {
   "cell_type": "code",
   "execution_count": 100,
   "metadata": {},
   "outputs": [],
   "source": [
    "increase_rate=pd.read_csv('increase_rate.csv')\n",
    "raw_data=pd.Series(increase_rate.dropna().loc[:,'2017-11-01'])"
   ]
  },
  {
   "cell_type": "code",
   "execution_count": 103,
   "metadata": {},
   "outputs": [
    {
     "data": {
      "text/plain": [
       "2017-11-01    1.773534\n",
       "2017-11-02    1.398627\n",
       "2017-11-03    1.244074\n",
       "2017-11-04    1.170907\n",
       "2017-11-05    1.157615\n",
       "2017-11-06    1.135283\n",
       "2017-11-07    1.086424\n",
       "2017-11-08    1.091836\n",
       "2017-11-09    1.070404\n",
       "2017-11-10    1.062977\n",
       "2017-11-11    1.055656\n",
       "2017-11-12    1.063092\n",
       "2017-11-13    1.057356\n",
       "2017-11-14    1.046986\n",
       "2017-11-15    1.053852\n",
       "2017-11-16    1.046770\n",
       "2017-11-17    1.047084\n",
       "2017-11-18    1.041178\n",
       "2017-11-19    1.030939\n",
       "2017-11-20    1.031913\n",
       "2017-11-21    1.036650\n",
       "2017-11-22    1.031128\n",
       "2017-11-23    1.025235\n",
       "2017-11-24    1.027752\n",
       "2017-11-25    1.025036\n",
       "2017-11-26    1.027064\n",
       "2017-11-27    1.020792\n",
       "2017-11-28    1.021077\n",
       "2017-11-29    1.022506\n",
       "2017-11-30    1.023819\n",
       "                ...   \n",
       "2018-05-29    1.001658\n",
       "2018-05-30    1.002612\n",
       "2018-05-31    1.002028\n",
       "2018-06-01    1.002817\n",
       "2018-06-02    1.001935\n",
       "2018-06-03    1.002064\n",
       "2018-06-04    1.001841\n",
       "2018-06-05    1.002783\n",
       "2018-06-06    1.002395\n",
       "2018-06-07    1.002994\n",
       "2018-06-08    1.003571\n",
       "2018-06-09    1.004543\n",
       "2018-06-10    1.001579\n",
       "2018-06-11    1.001695\n",
       "2018-06-12    1.001462\n",
       "2018-06-13    1.001590\n",
       "2018-06-14    1.003580\n",
       "2018-06-15    1.003481\n",
       "2018-06-16    1.001943\n",
       "2018-06-17    1.002698\n",
       "2018-06-18    1.003932\n",
       "2018-06-19    1.002696\n",
       "2018-06-20    1.003775\n",
       "2018-06-21    1.002388\n",
       "2018-06-22    1.003116\n",
       "2018-06-23    1.003948\n",
       "2018-06-24    1.002324\n",
       "2018-06-25    1.002570\n",
       "2018-06-26    1.002073\n",
       "2018-06-27    1.002284\n",
       "Name: 2017-11-01, Length: 239, dtype: float64"
      ]
     },
     "execution_count": 103,
     "metadata": {},
     "output_type": "execute_result"
    }
   ],
   "source": [
    "raw_data.index=date_index\n",
    "raw_data"
   ]
  },
  {
   "cell_type": "code",
   "execution_count": 118,
   "metadata": {},
   "outputs": [
    {
     "data": {
      "text/plain": [
       "2017-11-01    1.773534\n",
       "2017-11-02    1.398627\n",
       "2017-11-03    1.244074\n",
       "2017-11-04    1.170907\n",
       "2017-11-05    1.157615\n",
       "2017-11-06    1.135283\n",
       "2017-11-07    1.086424\n",
       "2017-11-08    1.091836\n",
       "2017-11-09    1.070404\n",
       "2017-11-10    1.062977\n",
       "2017-11-11    1.055656\n",
       "2017-11-12    1.063092\n",
       "2017-11-13    1.057356\n",
       "2017-11-14    1.046986\n",
       "2017-11-15    1.053852\n",
       "2017-11-16    1.046770\n",
       "2017-11-17    1.047084\n",
       "2017-11-18    1.041178\n",
       "2017-11-19    1.030939\n",
       "2017-11-20    1.031913\n",
       "2017-11-21    1.036650\n",
       "2017-11-22    1.031128\n",
       "2017-11-23    1.025235\n",
       "2017-11-24    1.027752\n",
       "2017-11-25    1.025036\n",
       "2017-11-26    1.027064\n",
       "2017-11-27    1.020792\n",
       "2017-11-28    1.021077\n",
       "2017-11-29    1.022506\n",
       "2017-11-30    1.023819\n",
       "                ...   \n",
       "2018-04-20    1.003337\n",
       "2018-04-21    1.003475\n",
       "2018-04-22    1.002602\n",
       "2018-04-23    1.003597\n",
       "2018-04-24    1.003290\n",
       "2018-04-25    1.001944\n",
       "2018-04-26    1.003574\n",
       "2018-04-27    1.003236\n",
       "2018-04-28    1.003229\n",
       "2018-04-29    1.003828\n",
       "2018-04-30    1.002910\n",
       "2018-05-01    1.003892\n",
       "2018-05-02    1.003541\n",
       "2018-05-03    1.003591\n",
       "2018-05-04    1.002853\n",
       "2018-05-05    1.002138\n",
       "2018-05-06    1.003358\n",
       "2018-05-07    1.003212\n",
       "2018-05-08    1.004151\n",
       "2018-05-09    1.003943\n",
       "2018-05-10    1.003838\n",
       "2018-05-11    1.003114\n",
       "2018-05-12    1.003068\n",
       "2018-05-13    1.003092\n",
       "2018-05-14    1.003714\n",
       "2018-05-15    1.002981\n",
       "2018-05-16    1.003386\n",
       "2018-05-17    1.002156\n",
       "2018-05-18    1.002422\n",
       "2018-05-19    1.001888\n",
       "Name: 2017-11-01, Length: 200, dtype: float64"
      ]
     },
     "execution_count": 118,
     "metadata": {},
     "output_type": "execute_result"
    }
   ],
   "source": [
    "ts_data=raw_data[:200]\n",
    "ts_data"
   ]
  },
  {
   "cell_type": "code",
   "execution_count": 113,
   "metadata": {
    "scrolled": false
   },
   "outputs": [
    {
     "data": {
      "image/png": "[encoded data removed]",
      "text/plain": [
       "<Figure size 432x288 with 1 Axes>"
      ]
     },
     "metadata": {
      "needs_background": "light"
     },
     "output_type": "display_data"
    },
    {
     "name": "stdout",
     "output_type": "stream",
     "text": [
      "stochastic score\n",
      "+---------------------+---------------------+---------+------+---------------------------------------------------------------------------+--------------------+\n",
      "|         adf         |        pvalue       | usedlag | nobs |                              critical_values                              |       icbest       |\n",
      "+---------------------+---------------------+---------+------+---------------------------------------------------------------------------+--------------------+\n",
      "| -2.2428583809732903 | 0.19105950913154618 |    9    |  20  | {'1%': -3.8092091249999998, '5%': -3.0216450000000004, '10%': -2.6507125} | -157.2864980266581 |\n",
      "+---------------------+---------------------+---------+------+---------------------------------------------------------------------------+--------------------+\n",
      "stationary score\n",
      "+-------------+--------------+\n",
      "|   lbvalue   |    pvalue    |\n",
      "+-------------+--------------+\n",
      "| [8.8511277] | [0.00292908] |\n",
      "+-------------+--------------+\n"
     ]
    },
    {
     "name": "stderr",
     "output_type": "stream",
     "text": [
      "/Users/magictavern/anaconda3/lib/python3.6/site-packages/matplotlib/figure.py:457: UserWarning: matplotlib is currently using a non-GUI backend, so cannot show the figure\n",
      "  \"matplotlib is currently using a non-GUI backend, \"\n",
      "/Users/magictavern/anaconda3/lib/python3.6/site-packages/matplotlib/figure.py:457: UserWarning: matplotlib is currently using a non-GUI backend, so cannot show the figure\n",
      "  \"matplotlib is currently using a non-GUI backend, \"\n"
     ]
    },
    {
     "data": {
      "image/png": "[encoded data removed]",
      "text/plain": [
       "<Figure size 432x288 with 1 Axes>"
      ]
     },
     "metadata": {
      "needs_background": "light"
     },
     "output_type": "display_data"
    },
    {
     "data": {
      "image/png": "[encoded data removed]",
      "text/plain": [
       "<Figure size 432x288 with 1 Axes>"
      ]
     },
     "metadata": {
      "needs_background": "light"
     },
     "output_type": "display_data"
    },
    {
     "data": {
      "image/png": "[encoded data removed]",
      "text/plain": [
       "<Figure size 432x288 with 1 Axes>"
      ]
     },
     "metadata": {
      "needs_background": "light"
     },
     "output_type": "display_data"
    },
    {
     "name": "stderr",
     "output_type": "stream",
     "text": [
      "/Users/magictavern/anaconda3/lib/python3.6/site-packages/matplotlib/figure.py:457: UserWarning: matplotlib is currently using a non-GUI backend, so cannot show the figure\n",
      "  \"matplotlib is currently using a non-GUI backend, \"\n",
      "/Users/magictavern/anaconda3/lib/python3.6/site-packages/matplotlib/figure.py:457: UserWarning: matplotlib is currently using a non-GUI backend, so cannot show the figure\n",
      "  \"matplotlib is currently using a non-GUI backend, \"\n",
      "/Users/magictavern/anaconda3/lib/python3.6/site-packages/statsmodels/tsa/base/tsa_model.py:171: ValueWarning: No frequency information was provided, so inferred frequency D will be used.\n",
      "  % freq, ValueWarning)\n",
      "/Users/magictavern/anaconda3/lib/python3.6/site-packages/statsmodels/tsa/base/tsa_model.py:171: ValueWarning: No frequency information was provided, so inferred frequency D will be used.\n",
      "  % freq, ValueWarning)\n",
      "/Users/magictavern/anaconda3/lib/python3.6/site-packages/statsmodels/tsa/base/tsa_model.py:171: ValueWarning: No frequency information was provided, so inferred frequency D will be used.\n",
      "  % freq, ValueWarning)\n",
      "/Users/magictavern/anaconda3/lib/python3.6/site-packages/statsmodels/tsa/base/tsa_model.py:171: ValueWarning: No frequency information was provided, so inferred frequency D will be used.\n",
      "  % freq, ValueWarning)\n",
      "/Users/magictavern/anaconda3/lib/python3.6/site-packages/statsmodels/tsa/base/tsa_model.py:171: ValueWarning: No frequency information was provided, so inferred frequency D will be used.\n",
      "  % freq, ValueWarning)\n",
      "/Users/magictavern/anaconda3/lib/python3.6/site-packages/statsmodels/tsa/base/tsa_model.py:171: ValueWarning: No frequency information was provided, so inferred frequency D will be used.\n",
      "  % freq, ValueWarning)\n",
      "/Users/magictavern/anaconda3/lib/python3.6/site-packages/statsmodels/tsa/base/tsa_model.py:171: ValueWarning: No frequency information was provided, so inferred frequency D will be used.\n",
      "  % freq, ValueWarning)\n",
      "/Users/magictavern/anaconda3/lib/python3.6/site-packages/statsmodels/tsa/base/tsa_model.py:171: ValueWarning: No frequency information was provided, so inferred frequency D will be used.\n",
      "  % freq, ValueWarning)\n"
     ]
    },
    {
     "name": "stdout",
     "output_type": "stream",
     "text": [
      "stochastic score\n",
      "+---------------------+--------------------+---------+------+---------------------------------------------------------------------------+---------------------+\n",
      "|         adf         |       pvalue       | usedlag | nobs |                              critical_values                              |        icbest       |\n",
      "+---------------------+--------------------+---------+------+---------------------------------------------------------------------------+---------------------+\n",
      "| -1.9112307462595466 | 0.3267963977346916 |    9    |  20  | {'1%': -3.8092091249999998, '5%': -3.0216450000000004, '10%': -2.6507125} | -156.47886033220124 |\n",
      "+---------------------+--------------------+---------+------+---------------------------------------------------------------------------+---------------------+\n",
      "stationary score\n",
      "+---------------+--------------+\n",
      "|    lbvalue    |    pvalue    |\n",
      "+---------------+--------------+\n",
      "| [11.24103355] | [0.00080009] |\n",
      "+---------------+--------------+\n"
     ]
    },
    {
     "name": "stderr",
     "output_type": "stream",
     "text": [
      "/Users/magictavern/anaconda3/lib/python3.6/site-packages/statsmodels/tsa/base/tsa_model.py:171: ValueWarning: No frequency information was provided, so inferred frequency D will be used.\n",
      "  % freq, ValueWarning)\n",
      "/Users/magictavern/anaconda3/lib/python3.6/site-packages/statsmodels/tsa/base/tsa_model.py:171: ValueWarning: No frequency information was provided, so inferred frequency D will be used.\n",
      "  % freq, ValueWarning)\n",
      "/Users/magictavern/anaconda3/lib/python3.6/site-packages/statsmodels/tsa/base/tsa_model.py:171: ValueWarning: No frequency information was provided, so inferred frequency D will be used.\n",
      "  % freq, ValueWarning)\n",
      "/Users/magictavern/anaconda3/lib/python3.6/site-packages/statsmodels/tsa/base/tsa_model.py:171: ValueWarning: No frequency information was provided, so inferred frequency D will be used.\n",
      "  % freq, ValueWarning)\n",
      "/Users/magictavern/anaconda3/lib/python3.6/site-packages/statsmodels/base/model.py:488: HessianInversionWarning: Inverting hessian failed, no bse or cov_params available\n",
      "  'available', HessianInversionWarning)\n",
      "/Users/magictavern/anaconda3/lib/python3.6/site-packages/statsmodels/tsa/base/tsa_model.py:171: ValueWarning: No frequency information was provided, so inferred frequency D will be used.\n",
      "  % freq, ValueWarning)\n",
      "/Users/magictavern/anaconda3/lib/python3.6/site-packages/statsmodels/tsa/base/tsa_model.py:171: ValueWarning: No frequency information was provided, so inferred frequency D will be used.\n",
      "  % freq, ValueWarning)\n",
      "/Users/magictavern/anaconda3/lib/python3.6/site-packages/statsmodels/tsa/base/tsa_model.py:171: ValueWarning: No frequency information was provided, so inferred frequency D will be used.\n",
      "  % freq, ValueWarning)\n",
      "/Users/magictavern/anaconda3/lib/python3.6/site-packages/statsmodels/base/model.py:488: HessianInversionWarning: Inverting hessian failed, no bse or cov_params available\n",
      "  'available', HessianInversionWarning)\n",
      "/Users/magictavern/anaconda3/lib/python3.6/site-packages/statsmodels/tsa/base/tsa_model.py:171: ValueWarning: No frequency information was provided, so inferred frequency D will be used.\n",
      "  % freq, ValueWarning)\n"
     ]
    },
    {
     "name": "stdout",
     "output_type": "stream",
     "text": [
      "each p/q traning record\n",
      "      p    q         aic         bic        hqic\n",
      "0   0.0  0.0  -41.810839  -39.008444  -40.914328\n",
      "1   0.0  1.0  -49.048587  -44.844995  -47.703822\n",
      "2   0.0  2.0  -49.815973  -44.211184  -48.022953\n",
      "3   0.0  3.0  -48.643629  -41.637643  -46.402354\n",
      "4   1.0  0.0 -169.809422 -165.707535 -168.524762\n",
      "5   1.0  1.0 -170.816276 -165.347092 -169.103396\n",
      "6   1.0  2.0 -170.662266 -163.825787 -168.521166\n",
      "7   1.0  3.0 -175.542353 -167.338578 -172.973033\n",
      "8   2.0  0.0 -174.208837 -168.880019 -172.579764\n",
      "9   2.0  1.0 -192.310266 -185.649243 -190.273925\n",
      "10  2.0  2.0 -193.076459 -185.083232 -190.632850\n",
      "11  2.0  3.0 -197.096782 -187.771350 -194.245904\n",
      "12  3.0  0.0 -171.668397 -165.189213 -169.741796\n",
      "13  3.0  1.0 -184.564925 -176.789904 -182.253004\n",
      "14  3.0  2.0 -184.340909 -175.270051 -181.643667\n",
      "15  3.0  3.0 -180.622909 -170.256215 -177.540348\n",
      "best p and q\n",
      "+---+---+--------------------+---------------------+--------------------+\n",
      "| p | q |        aic         |         bic         |        hqic        |\n",
      "+---+---+--------------------+---------------------+--------------------+\n",
      "| 2 | 3 | -197.0967817863666 | -187.77135021514016 | -194.2459043860212 |\n",
      "+---+---+--------------------+---------------------+--------------------+\n"
     ]
    },
    {
     "data": {
      "image/png": "[encoded data removed]",
      "text/plain": [
       "<Figure size 432x288 with 1 Axes>"
      ]
     },
     "metadata": {
      "needs_background": "light"
     },
     "output_type": "display_data"
    },
    {
     "data": {
      "image/png": "[encoded data removed]",
      "text/plain": [
       "<Figure size 432x288 with 1 Axes>"
      ]
     },
     "metadata": {
      "needs_background": "light"
     },
     "output_type": "display_data"
    },
    {
     "data": {
      "image/png": "[encoded data removed]",
      "text/plain": [
       "<Figure size 432x288 with 1 Axes>"
      ]
     },
     "metadata": {
      "needs_background": "light"
     },
     "output_type": "display_data"
    },
    {
     "name": "stdout",
     "output_type": "stream",
     "text": [
      "-----------predict date-----------\n",
      "2017-11-21    1.031591\n",
      "2017-11-22    1.028614\n",
      "2017-11-23    1.025117\n",
      "2017-11-24    1.024874\n",
      "2017-11-25    1.024761\n",
      "2017-11-26    1.023598\n",
      "2017-11-27    1.023191\n",
      "2017-11-28    1.022592\n",
      "2017-11-29    1.024636\n",
      "2017-11-30    1.024947\n",
      "2017-12-01    1.024857\n",
      "2017-12-02    1.023817\n",
      "2017-12-03    1.022625\n",
      "2017-12-04    1.021944\n",
      "2017-12-05    1.021509\n",
      "2017-12-06    1.021198\n",
      "2017-12-07    1.020957\n",
      "2017-12-08    1.020760\n",
      "2017-12-09    1.020593\n",
      "2017-12-10    1.020450\n",
      "2017-12-11    1.020325\n",
      "2017-12-12    1.020216\n",
      "2017-12-13    1.020121\n",
      "2017-12-14    1.020037\n",
      "2017-12-15    1.019964\n",
      "2017-12-16    1.019900\n",
      "2017-12-17    1.019843\n",
      "2017-12-18    1.019794\n",
      "2017-12-19    1.019750\n",
      "2017-12-20    1.019712\n",
      "                ...   \n",
      "2018-05-29    1.019439\n",
      "2018-05-30    1.019439\n",
      "2018-05-31    1.019439\n",
      "2018-06-01    1.019439\n",
      "2018-06-02    1.019439\n",
      "2018-06-03    1.019439\n",
      "2018-06-04    1.019439\n",
      "2018-06-05    1.019439\n",
      "2018-06-06    1.019439\n",
      "2018-06-07    1.019439\n",
      "2018-06-08    1.019439\n",
      "2018-06-09    1.019439\n",
      "2018-06-10    1.019439\n",
      "2018-06-11    1.019439\n",
      "2018-06-12    1.019439\n",
      "2018-06-13    1.019439\n",
      "2018-06-14    1.019439\n",
      "2018-06-15    1.019439\n",
      "2018-06-16    1.019439\n",
      "2018-06-17    1.019439\n",
      "2018-06-18    1.019439\n",
      "2018-06-19    1.019439\n",
      "2018-06-20    1.019439\n",
      "2018-06-21    1.019439\n",
      "2018-06-22    1.019439\n",
      "2018-06-23    1.019439\n",
      "2018-06-24    1.019439\n",
      "2018-06-25    1.019439\n",
      "2018-06-26    1.019439\n",
      "2018-06-27    1.019439\n",
      "Freq: D, Length: 219, dtype: float64\n"
     ]
    },
    {
     "data": {
      "image/png": "[encoded data removed]",
      "text/plain": [
       "<Figure size 432x288 with 1 Axes>"
      ]
     },
     "metadata": {
      "needs_background": "light"
     },
     "output_type": "display_data"
    }
   ],
   "source": [
    "adf,pvalue1,critical_values=adf_val(ts_data,'raw time series','raw acf','raw pacf')\n",
    "pvalue2=acorr_val(ts_data)\n",
    "rule1=(adf<critical_values['1%'] and adf < critical_values['5%'] and adf<critical_values['10%'] and pvalue1<0.01)\n",
    "rule2=(pvalue2[0,]<0.05)\n",
    "log_n,ts_data=get_best_log(ts_data,max_log=5,rule1=rule1,rule2=rule2)\n",
    "adf,pvalue1,critical_values=adf_val(ts_data,'final time series','final acf','final pacf')\n",
    "pvalue2=acorr_val(ts_data)\n",
    "model_arma=arma_fit(ts_data)\n",
    "ts_data=train_test(model_arma,ts_data,log_n,rule1=rule1,rule2=rule2)\n",
    "start='2017-11-21'\n",
    "end='2018-06-27'\n",
    "predict_data(model_arma,ts_data,log_n,start,end,rule1=rule1,rule2=rule2)"
   ]
  },
  {
   "cell_type": "code",
   "execution_count": null,
   "metadata": {},
   "outputs": [],
   "source": []
  }
 ],
 "metadata": {
  "kernelspec": {
   "display_name": "Python 3",
   "language": "python",
   "name": "python3"
  },
  "language_info": {
   "codemirror_mode": {
    "name": "ipython",
    "version": 3
   },
   "file_extension": ".py",
   "mimetype": "text/x-python",
   "name": "python",
   "nbconvert_exporter": "python",
   "pygments_lexer": "ipython3",
   "version": "3.6.7"
  }
 },
 "nbformat": 4,
 "nbformat_minor": 2
}

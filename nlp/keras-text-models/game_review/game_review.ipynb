{
 "cells": [
  {
   "cell_type": "code",
   "execution_count": 1,
   "metadata": {},
   "outputs": [
    {
     "name": "stderr",
     "output_type": "stream",
     "text": [
      "Using TensorFlow backend.\n"
     ]
    },
    {
     "name": "stdout",
     "output_type": "stream",
     "text": [
      "   Unnamed: 0 score_phrase                                              title  \\\n",
      "0           0      Amazing                            LittleBigPlanet PS Vita   \n",
      "1           1      Amazing  LittleBigPlanet PS Vita -- Marvel Super Hero E...   \n",
      "2           2        Great                               Splice: Tree of Life   \n",
      "3           3        Great                                             NHL 13   \n",
      "4           4        Great                                             NHL 13   \n",
      "\n",
      "                                                 url          platform  score  \\\n",
      "0             /games/littlebigplanet-vita/vita-98907  PlayStation Vita    9.0   \n",
      "1  /games/littlebigplanet-ps-vita-marvel-super-he...  PlayStation Vita    9.0   \n",
      "2                          /games/splice/ipad-141070              iPad    8.5   \n",
      "3                      /games/nhl-13/xbox-360-128182          Xbox 360    8.5   \n",
      "4                           /games/nhl-13/ps3-128181     PlayStation 3    8.5   \n",
      "\n",
      "        genre editors_choice  release_year  release_month  release_day  \n",
      "0  Platformer              Y          2012              9           12  \n",
      "1  Platformer              Y          2012              9           12  \n",
      "2      Puzzle              N          2012              9           12  \n",
      "3      Sports              N          2012              9           11  \n",
      "4      Sports              N          2012              9           11  \n",
      "Great          4305\n",
      "Good           4261\n",
      "Okay           2643\n",
      "Mediocre       1759\n",
      "Amazing        1628\n",
      "Bad            1138\n",
      "Awful           601\n",
      "Painful         309\n",
      "Unbearable       65\n",
      "Masterpiece      50\n",
      "Name: score_phrase, dtype: int64\n"
     ]
    }
   ],
   "source": [
    "import pandas as pd\n",
    "import numpy as np\n",
    "import os\n",
    "from keras import backend\n",
    "from keras.preprocessing.sequence import pad_sequences\n",
    "from keras.preprocessing.text import Tokenizer\n",
    "from keras.layers.merge import concatenate\n",
    "from keras.models import Sequential, Model\n",
    "from keras.layers import Dense, Embedding, Activation, merge, Input, Lambda, Reshape\n",
    "from keras.layers import Convolution1D, Flatten, Dropout, MaxPool1D, GlobalAveragePooling1D\n",
    "from keras.layers import LSTM, GRU, TimeDistributed, Bidirectional\n",
    "from keras.layers import  BatchNormalization\n",
    "from keras.utils.np_utils import to_categorical\n",
    "from keras import initializers\n",
    "from keras import backend as K\n",
    "from keras import constraints\n",
    "from keras import regularizers\n",
    "from keras.engine.topology import Layer\n",
    "\n",
    "from sklearn.model_selection import train_test_split\n",
    "from sklearn import preprocessing\n",
    "from sklearn.feature_extraction.text import CountVectorizer\n",
    "from sklearn.naive_bayes import MultinomialNB\n",
    "from sklearn.linear_model import SGDClassifier\n",
    "from sklearn.feature_extraction.text import TfidfVectorizer\n",
    "from sklearn.pipeline import make_pipeline\n",
    "from sklearn.model_selection import cross_val_score\n",
    "df = pd.read_csv('./data/ign.csv')\n",
    "print(df.head())\n",
    "df = df[df.score_phrase != 'Disaster']\n",
    "title = df.title\n",
    "label = df.score_phrase\n",
    "X_train, X_test, y_train, y_test = train_test_split(title, label, test_size=0.1, random_state=42)\n",
    "y_labels = list(y_train.value_counts().index)\n",
    "print (y_train.value_counts())#样本不均衡\n",
    "GLOVE_DIR='/Users/magictavern/Downloads/glove'\n",
    "embeddings_index = {}\n",
    "f = open(os.path.join(GLOVE_DIR, 'glove.6B.300d.txt'), encoding = 'utf-8')"
   ]
  },
  {
   "cell_type": "code",
   "execution_count": 59,
   "metadata": {},
   "outputs": [],
   "source": [
    "le = preprocessing.LabelEncoder()\n",
    "le.fit(y_labels)\n",
    "num_labels = len(y_labels)"
   ]
  },
  {
   "cell_type": "code",
   "execution_count": 65,
   "metadata": {},
   "outputs": [],
   "source": [
    "y_train = to_categorical(y_train.map(lambda x: le.transform([x])[0]), num_labels)\n",
    "y_test = to_categorical(y_test.map(lambda x: le.transform([x])[0]), num_labels)"
   ]
  },
  {
   "cell_type": "code",
   "execution_count": 4,
   "metadata": {},
   "outputs": [],
   "source": [
    "for line in f:\n",
    "    values = line.split()\n",
    "    word = values[0]\n",
    "    coefs = np.asarray(values[1:], dtype='float32')\n",
    "    embeddings_index[word] = coefs\n",
    "f.close()"
   ]
  },
  {
   "cell_type": "code",
   "execution_count": 18,
   "metadata": {},
   "outputs": [
    {
     "data": {
      "text/plain": [
       "0                              LittleBigPlanet PS Vita\n",
       "1    LittleBigPlanet PS Vita -- Marvel Super Hero E...\n",
       "2                                 Splice: Tree of Life\n",
       "3                                               NHL 13\n",
       "4                                               NHL 13\n",
       "Name: title, dtype: object"
      ]
     },
     "execution_count": 18,
     "metadata": {},
     "output_type": "execute_result"
    }
   ],
   "source": [
    "title.head()"
   ]
  },
  {
   "cell_type": "code",
   "execution_count": 19,
   "metadata": {},
   "outputs": [],
   "source": [
    " # take tokens and build word-id dictionary     \n",
    "tokenizer = Tokenizer(filters='!\"#$%&()*+,-./:;<=>?@[\\\\]^_`{|}~\\t\\n',lower=True,split=\" \")\n",
    "tokenizer.fit_on_texts(title)\n",
    "vocab = tokenizer.word_index#字典，所有语料中词语的编号"
   ]
  },
  {
   "cell_type": "code",
   "execution_count": 34,
   "metadata": {},
   "outputs": [
    {
     "data": {
      "text/plain": [
       "8144"
      ]
     },
     "execution_count": 34,
     "metadata": {},
     "output_type": "execute_result"
    }
   ],
   "source": [
    "len(vocab)"
   ]
  },
  {
   "cell_type": "code",
   "execution_count": 31,
   "metadata": {},
   "outputs": [],
   "source": [
    "embedding_matrix = np.zeros((len(vocab) + 1, 300))"
   ]
  },
  {
   "cell_type": "code",
   "execution_count": 33,
   "metadata": {},
   "outputs": [
    {
     "data": {
      "text/plain": [
       "(8145, 300)"
      ]
     },
     "execution_count": 33,
     "metadata": {},
     "output_type": "execute_result"
    }
   ],
   "source": [
    "embedding_matrix.shape"
   ]
  },
  {
   "cell_type": "code",
   "execution_count": 36,
   "metadata": {},
   "outputs": [],
   "source": [
    "for word, i in vocab.items():\n",
    "    embedding_vector = embeddings_index.get(word)\n",
    "    if embedding_vector is not None:\n",
    "        embedding_matrix[i] = embedding_vector"
   ]
  },
  {
   "cell_type": "code",
   "execution_count": 43,
   "metadata": {},
   "outputs": [],
   "source": [
    "x_train_word_ids = tokenizer.texts_to_sequences(X_train)\n",
    "x_test_word_ids = tokenizer.texts_to_sequences(X_test)"
   ]
  },
  {
   "cell_type": "code",
   "execution_count": 45,
   "metadata": {},
   "outputs": [],
   "source": [
    "x_train_padded_seqs = pad_sequences(x_train_word_ids, maxlen=20)\n",
    "x_test_padded_seqs = pad_sequences(x_test_word_ids, maxlen=20)"
   ]
  },
  {
   "cell_type": "code",
   "execution_count": 51,
   "metadata": {},
   "outputs": [],
   "source": [
    "x=tokenizer.sequences_to_matrix(x_train_word_ids, mode='binary')"
   ]
  },
  {
   "cell_type": "code",
   "execution_count": 57,
   "metadata": {},
   "outputs": [
    {
     "data": {
      "text/plain": [
       "(8145,)"
      ]
     },
     "execution_count": 57,
     "metadata": {},
     "output_type": "execute_result"
    }
   ],
   "source": []
  },
  {
   "cell_type": "code",
   "execution_count": null,
   "metadata": {},
   "outputs": [],
   "source": []
  }
 ],
 "metadata": {
  "kernelspec": {
   "display_name": "Python 3",
   "language": "python",
   "name": "python3"
  },
  "language_info": {
   "codemirror_mode": {
    "name": "ipython",
    "version": 3
   },
   "file_extension": ".py",
   "mimetype": "text/x-python",
   "name": "python",
   "nbconvert_exporter": "python",
   "pygments_lexer": "ipython3",
   "version": "3.6.7"
  }
 },
 "nbformat": 4,
 "nbformat_minor": 2
}
